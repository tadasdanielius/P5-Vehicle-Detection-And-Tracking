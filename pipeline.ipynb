{
 "cells": [
  {
   "cell_type": "code",
   "execution_count": 1,
   "metadata": {
    "collapsed": true
   },
   "outputs": [],
   "source": [
    "import cv2\n",
    "import sdc.detection.svm_classifier as svm\n",
    "import sdc.detection.heatmap as h\n",
    "import sdc.detection.object_detection as od\n",
    "import sdc.detection.window as w\n",
    "\n",
    "from moviepy.editor import VideoFileClip"
   ]
  },
  {
   "cell_type": "code",
   "execution_count": 2,
   "metadata": {
    "collapsed": false
   },
   "outputs": [],
   "source": [
    "# Initialize classifier\n",
    "clf = svm.SVMClassifier()\n",
    "clf.load()\n",
    "\n",
    "# Create detector\n",
    "detector = od.ObjectDetection(clf)\n",
    "\n",
    "# Define interest of area which area of the image will be analyzed\n",
    "detector.settings.xregion = (330, 640)\n",
    "detector.settings.yregion = (200, 330)\n",
    "\n",
    "# Parameter which scales HOG image\n",
    "detector.settings.scale = 0.7"
   ]
  },
  {
   "cell_type": "code",
   "execution_count": 3,
   "metadata": {
    "collapsed": true
   },
   "outputs": [],
   "source": [
    "y1, y2 = detector.settings.yregion\n",
    "x1, x2 = detector.settings.xregion\n",
    "heatmap = h.DynamicHeatmap((330, 640), 2)\n",
    "frames = 0\n",
    "\n",
    "# Detected objects\n",
    "objects =[]\n",
    "\n",
    "# How many frames we are going to skip\n",
    "skip_frames = 10\n",
    "\n",
    "# Function which will handle each frame\n",
    "def process_frame(im):\n",
    "    global frames\n",
    "    global objects\n",
    "    global skip_frames\n",
    "    \n",
    "    # Resize image by half\n",
    "    img = cv2.resize(im, (im.shape[1]//2, im.shape[0]//2))\n",
    "    if frames % skip_frames == 0:\n",
    "        result, boxes = detector.find_objects(img)\n",
    "        _ = heatmap.add_heat(boxes)    \n",
    "        objects, mask, labels = heatmap.find_heat_rectangles(0, expand=(3, 1))\n",
    "        \n",
    "    img = w.draw_boxes(im, objects, thick=2, mult=2)\n",
    "    frames += 1\n",
    "    return img\n"
   ]
  },
  {
   "cell_type": "code",
   "execution_count": 4,
   "metadata": {
    "collapsed": false
   },
   "outputs": [
    {
     "name": "stdout",
     "output_type": "stream",
     "text": [
      "[MoviePy] >>>> Building video videos/project_video_labelled.mp4\n",
      "[MoviePy] Writing video videos/project_video_labelled.mp4\n"
     ]
    },
    {
     "name": "stderr",
     "output_type": "stream",
     "text": [
      "100%|█████████▉| 1260/1261 [00:36<00:00, 31.57it/s]\n"
     ]
    },
    {
     "name": "stdout",
     "output_type": "stream",
     "text": [
      "[MoviePy] Done.\n",
      "[MoviePy] >>>> Video ready: videos/project_video_labelled.mp4 \n",
      "\n",
      "CPU times: user 3min 19s, sys: 5.13 s, total: 3min 24s\n",
      "Wall time: 36.8 s\n"
     ]
    }
   ],
   "source": [
    "video_output = 'videos/project_video_labelled.mp4'\n",
    "clip1 = VideoFileClip(\"videos/project_video.mp4\")\n",
    "out_clip = clip1.fl_image(process_frame)\n",
    "%time out_clip.write_videofile(video_output, audio=False)"
   ]
  }
 ],
 "metadata": {
  "kernelspec": {
   "display_name": "Python 3",
   "language": "python",
   "name": "python3"
  },
  "language_info": {
   "codemirror_mode": {
    "name": "ipython",
    "version": 3
   },
   "file_extension": ".py",
   "mimetype": "text/x-python",
   "name": "python",
   "nbconvert_exporter": "python",
   "pygments_lexer": "ipython3",
   "version": "3.5.2"
  }
 },
 "nbformat": 4,
 "nbformat_minor": 2
}
